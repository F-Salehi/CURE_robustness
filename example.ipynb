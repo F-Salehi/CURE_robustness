{
 "cells": [
  {
   "cell_type": "markdown",
   "metadata": {},
   "source": [
    "# Robustness via curvature regularization, and vice versa\n",
    "This notebooks demonstrates how to use the CURE algorithm for training a robust network."
   ]
  },
  {
   "cell_type": "code",
   "execution_count": 1,
   "metadata": {},
   "outputs": [],
   "source": [
    "%load_ext autoreload\n",
    "%autoreload 2"
   ]
  },
  {
   "cell_type": "code",
   "execution_count": 2,
   "metadata": {},
   "outputs": [],
   "source": [
    "import sys\n",
    "import numpy as np\n",
    "from CURE.CURE import CURELearner\n",
    "import matplotlib.pyplot as plt\n",
    "from utils.utils import read_vision_dataset\n",
    "from utils.resnet import ResNet18"
   ]
  },
  {
   "cell_type": "markdown",
   "metadata": {},
   "source": [
    "**Read the DataLoader**"
   ]
  },
  {
   "cell_type": "code",
   "execution_count": 3,
   "metadata": {},
   "outputs": [
    {
     "name": "stdout",
     "output_type": "stream",
     "text": [
      "Files already downloaded and verified\n",
      "Files already downloaded and verified\n"
     ]
    }
   ],
   "source": [
    "trainloader, testloader = read_vision_dataset('./data', batch_size=256, num_workers=2)"
   ]
  },
  {
   "cell_type": "markdown",
   "metadata": {},
   "source": [
    "**Import the network**"
   ]
  },
  {
   "cell_type": "code",
   "execution_count": 4,
   "metadata": {},
   "outputs": [],
   "source": [
    "network = ResNet18()"
   ]
  },
  {
   "cell_type": "markdown",
   "metadata": {},
   "source": [
    "**Initialize the class**"
   ]
  },
  {
   "cell_type": "code",
   "execution_count": 5,
   "metadata": {},
   "outputs": [],
   "source": [
    "net_CURE = CURELearner(network, trainloader, testloader, lambda_=4, device='cuda')"
   ]
  },
  {
   "cell_type": "markdown",
   "metadata": {},
   "source": [
    "**Set the optimizer**"
   ]
  },
  {
   "cell_type": "code",
   "execution_count": 6,
   "metadata": {},
   "outputs": [],
   "source": [
    "net_CURE.set_optimizer(optim_alg='Adam', args={'lr':8e-4,  'weight_decay': 0.0},\n",
    "                       scheduler='MultiStepLR', args_scheduler={'milestones':[7, 14], 'gamma':0.1})"
   ]
  },
  {
   "cell_type": "markdown",
   "metadata": {},
   "source": [
    "**Import the pre-trained model**"
   ]
  },
  {
   "cell_type": "code",
   "execution_count": 7,
   "metadata": {},
   "outputs": [],
   "source": [
    "net_CURE.import_model('./models/resnet_18_pretrained.pth')"
   ]
  },
  {
   "cell_type": "markdown",
   "metadata": {},
   "source": [
    "**Train the model**"
   ]
  },
  {
   "cell_type": "code",
   "execution_count": null,
   "metadata": {},
   "outputs": [
    {
     "name": "stdout",
     "output_type": "stream",
     "text": [
      "\n",
      "Epoch: 0\n",
      " [===================================>.............................]  Step: 952ms | Tot: 1m41s | Loss: 0.667 | Acc: 88.073% (24125/27392) | curvature: 0.28 107/196   \r"
     ]
    }
   ],
   "source": [
    "h = np.linspace(0.1, 3.0, 5)\n",
    "net_CURE.train(epochs=20, h=h)"
   ]
  },
  {
   "cell_type": "markdown",
   "metadata": {},
   "source": [
    "** Plot the results**"
   ]
  },
  {
   "cell_type": "code",
   "execution_count": 12,
   "metadata": {},
   "outputs": [
    {
     "data": {
      "image/png": "[encoded data removed]",
      "text/plain": [
       "<Figure size 1080x864 with 3 Axes>"
      ]
     },
     "metadata": {
      "needs_background": "light"
     },
     "output_type": "display_data"
    }
   ],
   "source": [
    "net_CURE.plot_results()"
   ]
  },
  {
   "cell_type": "code",
   "execution_count": 13,
   "metadata": {},
   "outputs": [
    {
     "name": "stdout",
     "output_type": "stream",
     "text": [
      "epoch = 51, adv_acc = 36.03515625, clean_acc = 80.87, loss = 0.6024027287960052 curvature = 0.0\n",
      "Saving the best model to ./checkpoint\n",
      "Saving...\n"
     ]
    },
    {
     "data": {
      "text/plain": [
       "(0.6024027287960052, 3.69, 80.87, 0.0)"
      ]
     },
     "execution_count": 13,
     "metadata": {},
     "output_type": "execute_result"
    }
   ],
   "source": [
    "net_CURE.test(51,3.0, num_pgd_steps=30)"
   ]
  },
  {
   "cell_type": "code",
   "execution_count": 2,
   "metadata": {},
   "outputs": [
    {
     "name": "stdout",
     "output_type": "stream",
     "text": [
      "Collecting torch\n",
      "\u001b[?25l  Downloading https://files.pythonhosted.org/packages/56/74/6fc9dee50f7c93d6b7d9644554bdc9692f3023fa5d1de779666e6bf8ae76/torch-1.8.1-cp37-cp37m-manylinux1_x86_64.whl (804.1MB)\n",
      "\u001b[K    100% |████████████████████████████████| 804.1MB 43kB/s  eta 0:00:01 0% |▎                               | 6.7MB 39.9MB/s eta 0:00:21    6% |██                              | 51.4MB 44.4MB/s eta 0:00:17    9% |███▏                            | 80.4MB 54.0MB/s eta 0:00:14    14% |████▋                           | 115.8MB 53.4MB/s eta 0:00:13    19% |██████▏                         | 154.3MB 26.4MB/s eta 0:00:25    20% |██████▌                         | 162.7MB 36.3MB/s eta 0:00:18    21% |██████▉                         | 170.6MB 41.7MB/s eta 0:00:16    23% |███████▌                        | 189.7MB 39.5MB/s eta 0:00:16    23% |███████▋                        | 191.7MB 43.6MB/s eta 0:00:15    24% |███████▊                        | 193.7MB 33.8MB/s eta 0:00:19    25% |████████▏                       | 205.7MB 28.4MB/s eta 0:00:22    28% |█████████                       | 227.9MB 17.0MB/s eta 0:00:34    35% |███████████▏                    | 281.6MB 48.2MB/s eta 0:00:11    53% |█████████████████▏              | 431.2MB 39.6MB/s eta 0:00:10    54% |█████████████████▎              | 434.5MB 48.7MB/s eta 0:00:08    60% |███████████████████▌            | 489.0MB 51.9MB/s eta 0:00:07    63% |████████████████████▌           | 514.1MB 13.4MB/s eta 0:00:22    64% |████████████████████▋           | 519.1MB 14.2MB/s eta 0:00:21    65% |████████████████████▉           | 524.5MB 15.5MB/s eta 0:00:19    65% |█████████████████████           | 526.2MB 19.1MB/s eta 0:00:15    66% |█████████████████████▏          | 531.0MB 23.8MB/s eta 0:00:12    67% |█████████████████████▌          | 539.3MB 40.9MB/s eta 0:00:07    68% |██████████████████████          | 553.1MB 25.9MB/s eta 0:00:10    69% |██████████████████████          | 554.8MB 37.9MB/s eta 0:00:07    69% |██████████████████████▏         | 558.2MB 23.7MB/s eta 0:00:11    70% |██████████████████████▌         | 564.9MB 52.9MB/s eta 0:00:05    71% |██████████████████████▉         | 574.0MB 26.1MB/s eta 0:00:09    71% |███████████████████████         | 577.2MB 10.9MB/s eta 0:00:21    72% |███████████████████████▎        | 585.9MB 30.9MB/s eta 0:00:08    73% |███████████████████████▍        | 588.4MB 19.9MB/s eta 0:00:11    73% |███████████████████████▌        | 591.9MB 21.3MB/s eta 0:00:10    86% |███████████████████████████▊    | 696.2MB 53.2MB/s eta 0:00:03    91% |█████████████████████████████▎  | 736.3MB 58.8MB/s eta 0:00:02    93% |██████████████████████████████  | 752.3MB 39.3MB/s eta 0:00:02    94% |██████████████████████████████▏ | 757.0MB 53.7MB/s eta 0:00:01\n",
      "\u001b[?25hCollecting typing-extensions (from torch)\n",
      "  Downloading https://files.pythonhosted.org/packages/60/7a/e881b5abb54db0e6e671ab088d079c57ce54e8a01a3ca443f561ccadb37e/typing_extensions-3.7.4.3-py3-none-any.whl\n",
      "Requirement already satisfied, skipping upgrade: numpy in /cluster/apps/python/3.7.1/x86_64/lib64/python3.7/site-packages (from torch) (1.16.2)\n",
      "Installing collected packages: typing-extensions, torch\n",
      "\u001b[31mCould not install packages due to an EnvironmentError: [Errno 13] Permission denied: '/cluster/apps/python/3.7.1/x86_64/lib64/python3.7/site-packages/typing_extensions.py'\n",
      "Consider using the `--user` option or check the permissions.\n",
      "\u001b[0m\n"
     ]
    }
   ],
   "source": [
    "!pip install --upgrade torch"
   ]
  },
  {
   "cell_type": "code",
   "execution_count": 4,
   "metadata": {},
   "outputs": [
    {
     "data": {
      "text/plain": [
       "'1.8.1+cu102'"
      ]
     },
     "execution_count": 4,
     "metadata": {},
     "output_type": "execute_result"
    }
   ],
   "source": [
    "import torch\n",
    "torch.__version__"
   ]
  },
  {
   "cell_type": "code",
   "execution_count": null,
   "metadata": {},
   "outputs": [],
   "source": []
  }
 ],
 "metadata": {
  "kernelspec": {
   "display_name": "Python 3",
   "language": "python",
   "name": "python3"
  },
  "language_info": {
   "codemirror_mode": {
    "name": "ipython",
    "version": 3
   },
   "file_extension": ".py",
   "mimetype": "text/x-python",
   "name": "python",
   "nbconvert_exporter": "python",
   "pygments_lexer": "ipython3",
   "version": "3.7.1"
  }
 },
 "nbformat": 4,
 "nbformat_minor": 2
}
